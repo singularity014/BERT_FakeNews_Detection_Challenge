{
  "nbformat": 4,
  "nbformat_minor": 0,
  "metadata": {
    "colab": {
      "name": "Clustering_Similar_News.ipynb",
      "provenance": [],
      "collapsed_sections": [],
      "authorship_tag": "ABX9TyMPSUdSgX+x4lchmyiyRPx/",
      "include_colab_link": true
    },
    "kernelspec": {
      "name": "python3",
      "display_name": "Python 3"
    }
  },
  "cells": [
    {
      "cell_type": "markdown",
      "metadata": {
        "id": "view-in-github",
        "colab_type": "text"
      },
      "source": [
        "<a href=\"https://colab.research.google.com/github/singularity014/BERT_FakeNews_Detection_Challenge/blob/master/Clustering_Similar_News.ipynb\" target=\"_parent\"><img src=\"https://colab.research.google.com/assets/colab-badge.svg\" alt=\"Open In Colab\"/></a>"
      ]
    },
    {
      "cell_type": "markdown",
      "metadata": {
        "id": "B6M093mpTE7B",
        "colab_type": "text"
      },
      "source": [
        "## I - Problem Statement\n",
        "\n",
        "- **Given** - A Data Set of Fake and Real news.\n",
        "\n",
        "- **Objective** - To develop a solution which  \n",
        "  detects if a given news is Fake or Real.\n",
        "\n",
        "- **Methodology used** - There are multiple ways of approaching to this problem. I have tried to use to popular ways of clustering.\n",
        "The Contextual Clustering approach, and LDA based approach."
      ]
    },
    {
      "cell_type": "markdown",
      "metadata": {
        "id": "0KOR3H3vSq6w",
        "colab_type": "text"
      },
      "source": [
        "# I -  Contextual Clustering Method\n",
        "\n",
        "In Contextual Clustering Approach -\n",
        "\n",
        "\n",
        "*   The idea is to capture what the News paragraph is trying to convey.\n",
        "*   We can use pretrained Sentence Embedding approaches to such as Transformer based \"BERT Setence Transformer\".\n",
        "- I will be using Multilingual Sentence Transformer model to develop the solution.\n",
        "- We will try to pose the problem as assigning vector to each News <paragraph + Title> a contextual Representation.\n",
        "- If a new instance of News comes, it will be encoded in a similar fashion\n",
        "\n",
        "\n"
      ]
    },
    {
      "cell_type": "markdown",
      "metadata": {
        "id": "px1QwdrUSzbB",
        "colab_type": "text"
      },
      "source": [
        "# II - LDA Based Method"
      ]
    },
    {
      "cell_type": "markdown",
      "metadata": {
        "id": "Bs-IPXmVTBBE",
        "colab_type": "text"
      },
      "source": [
        ""
      ]
    }
  ]
}