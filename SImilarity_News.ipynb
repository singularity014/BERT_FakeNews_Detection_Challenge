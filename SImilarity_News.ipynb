{
  "nbformat": 4,
  "nbformat_minor": 0,
  "metadata": {
    "colab": {
      "name": "SImilarity_News.ipynb",
      "provenance": [],
      "authorship_tag": "ABX9TyMJrn6hEDFSagdwycHI4hjk",
      "include_colab_link": true
    },
    "kernelspec": {
      "name": "python3",
      "display_name": "Python 3"
    },
    "accelerator": "GPU"
  },
  "cells": [
    {
      "cell_type": "markdown",
      "metadata": {
        "id": "view-in-github",
        "colab_type": "text"
      },
      "source": [
        "<a href=\"https://colab.research.google.com/github/singularity014/BERT_FakeNews_Detection_Challenge/blob/master/SImilarity_News.ipynb\" target=\"_parent\"><img src=\"https://colab.research.google.com/assets/colab-badge.svg\" alt=\"Open In Colab\"/></a>"
      ]
    },
    {
      "cell_type": "markdown",
      "metadata": {
        "id": "GkRUMKR91A4G",
        "colab_type": "text"
      },
      "source": [
        "## Problem Statement\n",
        "\n",
        "- **Given** - A Data Set of Fake and Real news.\n",
        "\n",
        "- **Objective** - To develop a solution which  \n",
        "  detects if a given news is Fake or Real.\n",
        "\n",
        "- **Methodology used** - There are multiple ways of approaching to this problem. I have tried to use to popular ways of clustering.\n",
        "The Contextual Clustering approach, and LDA based approach."
      ]
    },
    {
      "cell_type": "markdown",
      "metadata": {
        "id": "FNxRjkbw1ak0",
        "colab_type": "text"
      },
      "source": [
        "# Importing Dependencies\n",
        "We will add and install all the dependencies\n",
        "required here.\n",
        "\n"
      ]
    },
    {
      "cell_type": "code",
      "metadata": {
        "id": "Ew-geqZH08Cr",
        "colab_type": "code",
        "colab": {
          "base_uri": "https://localhost:8080/",
          "height": 73
        },
        "outputId": "9b5e6315-aa2d-4e08-faa6-551e2823891f"
      },
      "source": [
        "# !pip install textacy\n",
        "# !pip install ktrain\n",
        "# !pip install torch\n",
        "# !pip install spacy\n",
        "# !pip install neuralcoref\n",
        "# !pip install nltk\n"
      ],
      "execution_count": 11,
      "outputs": [
        {
          "output_type": "stream",
          "text": [
            "Requirement already satisfied: nltk in /usr/local/lib/python3.6/dist-packages (3.2.5)\n",
            "Requirement already satisfied: six in /usr/local/lib/python3.6/dist-packages (from nltk) (1.12.0)\n"
          ],
          "name": "stdout"
        }
      ]
    },
    {
      "cell_type": "markdown",
      "metadata": {
        "id": "xgs5OYpv0_fB",
        "colab_type": "text"
      },
      "source": [
        ""
      ]
    },
    {
      "cell_type": "code",
      "metadata": {
        "id": "YbwWeDdM1lAP",
        "colab_type": "code",
        "colab": {}
      },
      "source": [
        "import re\n",
        "import pandas as pd\n",
        "import numpy as np\n",
        "import matplotlib.pyplot as plt\n",
        "import seaborn as sns\n",
        "import urllib\n",
        "import json\n",
        "from ktrain import text\n",
        "import nltk\n",
        "from nltk.tokenize import sent_tokenize\n",
        "\n",
        "from google.colab import drive"
      ],
      "execution_count": 12,
      "outputs": []
    },
    {
      "cell_type": "code",
      "metadata": {
        "id": "io2GU5IMSqkt",
        "colab_type": "code",
        "colab": {
          "base_uri": "https://localhost:8080/",
          "height": 71
        },
        "outputId": "9d3fb1c7-769b-419a-81b8-8747ed9fd697"
      },
      "source": [
        "nltk.download('punkt')"
      ],
      "execution_count": 18,
      "outputs": [
        {
          "output_type": "stream",
          "text": [
            "[nltk_data] Downloading package punkt to /root/nltk_data...\n",
            "[nltk_data]   Unzipping tokenizers/punkt.zip.\n"
          ],
          "name": "stdout"
        },
        {
          "output_type": "execute_result",
          "data": {
            "text/plain": [
              "True"
            ]
          },
          "metadata": {
            "tags": []
          },
          "execution_count": 18
        }
      ]
    },
    {
      "cell_type": "markdown",
      "metadata": {
        "id": "yKL5PhnF29LJ",
        "colab_type": "text"
      },
      "source": [
        "# Data Loader"
      ]
    },
    {
      "cell_type": "code",
      "metadata": {
        "id": "ei-tOc8BSZ9O",
        "colab_type": "code",
        "colab": {}
      },
      "source": [
        "# Mounting Drive\n",
        "drive.mount(\"/content/drive\")"
      ],
      "execution_count": null,
      "outputs": []
    },
    {
      "cell_type": "code",
      "metadata": {
        "id": "iaY4L3Jf3AEp",
        "colab_type": "code",
        "colab": {}
      },
      "source": [
        "def load_convert_data(url):\n",
        "    \"\"\"\n",
        "    Downloads the json file from net and convert into pandas dataframe format.\n",
        "    \"\"\"\n",
        "    with urllib.request.urlopen(url) as url:\n",
        "        df = json.loads(url.read().decode('utf-8'))\n",
        "        df = pd.DataFrame.from_dict(df)\n",
        "    return df"
      ],
      "execution_count": 70,
      "outputs": []
    },
    {
      "cell_type": "code",
      "metadata": {
        "id": "RpThThP33FCG",
        "colab_type": "code",
        "colab": {}
      },
      "source": [
        "df_data = load_convert_data(\"https://storage.googleapis.com/public-resources/dataset/clusters.json\")"
      ],
      "execution_count": 71,
      "outputs": []
    },
    {
      "cell_type": "code",
      "metadata": {
        "id": "5XlQeBuuTJ4u",
        "colab_type": "code",
        "colab": {
          "base_uri": "https://localhost:8080/",
          "height": 216
        },
        "outputId": "52800082-bb98-4356-9ae8-dbb6e8c61dbc"
      },
      "source": [
        "df_data['text'][0]"
      ],
      "execution_count": 72,
      "outputs": [
        {
          "output_type": "execute_result",
          "data": {
            "application/vnd.google.colaboratory.intrinsic": {
              "type": "string"
            },
            "text/plain": [
              "'The coronavirus epidemic in Lithuania has clearly demonstrated the results of democratic reforms on the way to a “bright European future”.\\nAt the very beginning of the ХХl century, the optimization of medicine and health care was carried out in Lithuania, as a result of which the number of medical institutions was sharply reduced - all small ones were closed and only large ones were left. Today in the country there are only five medical centers in the largest cities - in Kaunas, Klaipeda, Siauliai, Panevezys and Vilnius. In the districts, something like paramedic points remained for emergency assistance.\\nIf there are few hospitals, then there are few doctors - and today this problem is one of the main ones, we have to involve senior students of medical universities in the fight against the epidemic, but all the same, specialists are sorely lacking.\\nThe Minister of Defense of Lithuania Raimundas Karoblis has already promised that the military will be sent to help the doctors, but would anyone really want him to be treated not by a doctor, but, for example, by an artilleryman?\\nThe second problem associated with the consequences of “democratic reforms” is that the country does not have strategic food supplies. Although just a few days ago, on March 19, the Lithuanian Prime Minister Saulius Skvernialis assured the country\\'s population that there were enough products in the “bins of the motherland” and there was no cause for concern. But everything was spoiled by the ex-Minister of Agriculture Kazis Starkevičius, who told reporters that there is cause for concern and that it lies in the fact that Lithuania does not have a strategic supply of food.\\n“In 2010, in case of emergency, 200 thousand cans of canned pork, 3.5 thousand tons of wheat flour, 1.6 thousand tons of rice, 1.3 thousand tons of semolina, 700 tons of sugar were bought for state reserve warehouses. According to the Ministry of Agriculture, today the food reserve consists only of grain and sugar. The remaining reserves are eaten, \"\\n- said Kazis Starkevičius.\\nAccording to him, in 2012 amendments to the law on the state reserve were adopted, according to which \"reserves were accumulated on the basis of preliminary agreements.\" This meant that companies, receiving money in advance, pledged in an extreme situation to supply everything necessary for the needs of the population. However, today no one really knows which companies are suppliers, moreover, in the context of the global crisis, whether these suppliers can provide the country with everything necessary is unknown.\\nStarkevičius recalled that in January of this year alone, more than 9 thousand tons of chicken meat was produced in Lithuania, 40% of which was exported, and the rest was eaten. And nothing fell into the state reserve.\\nThe ex-head of the Ministry of Agriculture insists that it is urgent to provide assistance to farmers, who today not only have nothing to buy fertilizers and spare parts for machinery, but it’s generally impossible to buy planting stock due to quarantine restrictions. This year\\'s harvest is already at stake, Starkevičius warned.\\nAgainst this background, Lithuanian President Gitanas Nauseda, speaking on Monday, March 23, said that there is a possibility of imposing martial law in the country. The command of the army will present its plan for the introduction of martial law on Tuesday, March 24.\\nSob. correspondent FSK'"
            ]
          },
          "metadata": {
            "tags": []
          },
          "execution_count": 72
        }
      ]
    },
    {
      "cell_type": "code",
      "metadata": {
        "id": "j5ZbJfnp3Fk4",
        "colab_type": "code",
        "colab": {
          "base_uri": "https://localhost:8080/",
          "height": 91
        },
        "outputId": "da949a79-c218-4085-b8a6-1fecf9b8cc0e"
      },
      "source": [
        "# checking data features\n",
        "print(df_data.columns )\n",
        "\n",
        "# checking number of data points\n",
        "print(df_data.shape)\n",
        "\n",
        "# checking distinct clusters and there numbers\n",
        "cluster_names = list(zip(df_data.cluster_name.unique(), df_data.cluster.unique()))\n",
        "print(cluster_names)"
      ],
      "execution_count": 73,
      "outputs": [
        {
          "output_type": "stream",
          "text": [
            "Index(['id', 'text', 'title', 'lang', 'date', 'cluster', 'cluster_name'], dtype='object')\n",
            "(181, 7)\n",
            "[('MS fails to respond', '0'), ('Anti-Russia', '1'), ('Claims about China', '2'), ('Collapse', '3'), ('Coronavirus is not serious', '4'), ('Cure', '5'), ('EU fails to respond', '6'), ('Miscellaneous', '7'), ('Origins', '8'), ('Properties', '9'), ('Was predicted', '10'), ('Secret plan of the global elite', '11'), ('Ukraine fails to respond', '12'), ('USA created COVID-2019', '13')]\n"
          ],
          "name": "stdout"
        }
      ]
    },
    {
      "cell_type": "markdown",
      "metadata": {
        "id": "jOsAkz8P3MZU",
        "colab_type": "text"
      },
      "source": [
        "**Observations**:\n",
        "\n",
        "- There are total 181 news articles in the data.\n",
        "- each articles have features :- 'text', 'title', 'lang', 'date', 'cluster', 'cluster_name'\n",
        "- We will be using 'title' and 'text' for getting contextual representations of each News Article.\n",
        "- There are total 14 distinct clusters."
      ]
    },
    {
      "cell_type": "markdown",
      "metadata": {
        "id": "Kwad3MPu3PXP",
        "colab_type": "text"
      },
      "source": [
        "# II - Data Preprocessing and Cleaning"
      ]
    },
    {
      "cell_type": "code",
      "metadata": {
        "id": "K5yEAbmh3IZ1",
        "colab_type": "code",
        "colab": {}
      },
      "source": [
        "# data cleaner function\n",
        "def clean_txt(sentence):\n",
        "    res = re.sub('[!*)@#%(&$_^]', '', sentence)\n",
        "    return sentence"
      ],
      "execution_count": 74,
      "outputs": []
    },
    {
      "cell_type": "code",
      "metadata": {
        "id": "zqbXfTmy3Rq0",
        "colab_type": "code",
        "colab": {
          "base_uri": "https://localhost:8080/",
          "height": 216
        },
        "outputId": "b6a4dca1-2c5d-4af2-9aa6-4072b3a35ad7"
      },
      "source": [
        "# Text cleaning\n",
        "df_data['text'] = df_data['text'].apply(clean_txt)\n",
        "# # Title cleaning\n",
        "df_data['title'] = df_data['title'].apply(clean_txt)\n",
        "df_data['text'][0]"
      ],
      "execution_count": 75,
      "outputs": [
        {
          "output_type": "execute_result",
          "data": {
            "application/vnd.google.colaboratory.intrinsic": {
              "type": "string"
            },
            "text/plain": [
              "'The coronavirus epidemic in Lithuania has clearly demonstrated the results of democratic reforms on the way to a “bright European future”.\\nAt the very beginning of the ХХl century, the optimization of medicine and health care was carried out in Lithuania, as a result of which the number of medical institutions was sharply reduced - all small ones were closed and only large ones were left. Today in the country there are only five medical centers in the largest cities - in Kaunas, Klaipeda, Siauliai, Panevezys and Vilnius. In the districts, something like paramedic points remained for emergency assistance.\\nIf there are few hospitals, then there are few doctors - and today this problem is one of the main ones, we have to involve senior students of medical universities in the fight against the epidemic, but all the same, specialists are sorely lacking.\\nThe Minister of Defense of Lithuania Raimundas Karoblis has already promised that the military will be sent to help the doctors, but would anyone really want him to be treated not by a doctor, but, for example, by an artilleryman?\\nThe second problem associated with the consequences of “democratic reforms” is that the country does not have strategic food supplies. Although just a few days ago, on March 19, the Lithuanian Prime Minister Saulius Skvernialis assured the country\\'s population that there were enough products in the “bins of the motherland” and there was no cause for concern. But everything was spoiled by the ex-Minister of Agriculture Kazis Starkevičius, who told reporters that there is cause for concern and that it lies in the fact that Lithuania does not have a strategic supply of food.\\n“In 2010, in case of emergency, 200 thousand cans of canned pork, 3.5 thousand tons of wheat flour, 1.6 thousand tons of rice, 1.3 thousand tons of semolina, 700 tons of sugar were bought for state reserve warehouses. According to the Ministry of Agriculture, today the food reserve consists only of grain and sugar. The remaining reserves are eaten, \"\\n- said Kazis Starkevičius.\\nAccording to him, in 2012 amendments to the law on the state reserve were adopted, according to which \"reserves were accumulated on the basis of preliminary agreements.\" This meant that companies, receiving money in advance, pledged in an extreme situation to supply everything necessary for the needs of the population. However, today no one really knows which companies are suppliers, moreover, in the context of the global crisis, whether these suppliers can provide the country with everything necessary is unknown.\\nStarkevičius recalled that in January of this year alone, more than 9 thousand tons of chicken meat was produced in Lithuania, 40% of which was exported, and the rest was eaten. And nothing fell into the state reserve.\\nThe ex-head of the Ministry of Agriculture insists that it is urgent to provide assistance to farmers, who today not only have nothing to buy fertilizers and spare parts for machinery, but it’s generally impossible to buy planting stock due to quarantine restrictions. This year\\'s harvest is already at stake, Starkevičius warned.\\nAgainst this background, Lithuanian President Gitanas Nauseda, speaking on Monday, March 23, said that there is a possibility of imposing martial law in the country. The command of the army will present its plan for the introduction of martial law on Tuesday, March 24.\\nSob. correspondent FSK'"
            ]
          },
          "metadata": {
            "tags": []
          },
          "execution_count": 75
        }
      ]
    },
    {
      "cell_type": "markdown",
      "metadata": {
        "id": "m2-uACzjWlxR",
        "colab_type": "text"
      },
      "source": [
        "#### Text Summarization\n",
        "\n",
        "MODEL USED -  BERT Extractive Summerizer\n",
        "Reason  - It is trained on a generic set of data including News articles such as CNN, Daily Mail. Hence we don not need to fine-tune it (although we can, if domain heavy text is there).\n",
        "\n",
        "![alt text](https://iq.opengenus.org/content/images/2020/01/pic3.png)\n",
        "\n",
        "\n",
        "**Why Summarisation?**\n",
        "(My idea behind Approach)\n",
        "- The idea is extract import information in a concise way to represent it into a shorter form.\n",
        "\n",
        "- A strong argument to advocate this approach is, that as a human, whe try to say if one News is similar to other, we first try to get a summary in our head of the two news articles.\n",
        "- We then get the context and information conveyed in both the News Articiles.\n",
        "- By following this approach, we will try to mimic the process.\n",
        "- While one may argue that we might end up losing some information, but then, a huge advantage is that, we will end-up focusing on only important part of the news.\n",
        "- We want to focus on prnciple informations in the news article.\n"
      ]
    },
    {
      "cell_type": "markdown",
      "metadata": {
        "id": "OhHu3-WRWj52",
        "colab_type": "text"
      },
      "source": [
        ""
      ]
    },
    {
      "cell_type": "code",
      "metadata": {
        "id": "AkXxB_BHWd3m",
        "colab_type": "code",
        "colab": {}
      },
      "source": [
        ""
      ],
      "execution_count": null,
      "outputs": []
    },
    {
      "cell_type": "markdown",
      "metadata": {
        "id": "r_MsabMp42UO",
        "colab_type": "text"
      },
      "source": [
        "# III -  Contextual Clustering Approach\n",
        "\n",
        "In Contextual Clustering Approach -\n",
        "\n",
        "*   The idea is to capture what the News paragraph is trying to convey.\n",
        "*   We can use pretrained Sentence Embedding approaches to such as Transformer based \"BERT Setence Transformer\".\n",
        "- I will be using Multilingual Sentence Transformer model to develop the solution.\n",
        "- We will try to pose the problem as assigning vector to each News <paragraph + Title> a contextual Representation.\n",
        "- If a new instance of News comes, it will be encoded in a similar fashion\n",
        "\n",
        "\n"
      ]
    },
    {
      "cell_type": "markdown",
      "metadata": {
        "id": "FX7ernHIOzIg",
        "colab_type": "text"
      },
      "source": [
        "#### Feeding News Articles to Sentence Tokenizers"
      ]
    },
    {
      "cell_type": "code",
      "metadata": {
        "id": "r8qMTwRoDFZD",
        "colab_type": "code",
        "colab": {}
      },
      "source": [
        "def sent_tokens(news_article):\n",
        "  \"\"\"\n",
        "  this function accepts a document/News articles and performs\n",
        "  sentence tokenization.\n",
        "  * returns - list of tokenized sentences\n",
        "  \"\"\"\n",
        "  return sent_tokenize(news_article)"
      ],
      "execution_count": 19,
      "outputs": []
    },
    {
      "cell_type": "code",
      "metadata": {
        "id": "rkWa93izQQ_F",
        "colab_type": "code",
        "colab": {}
      },
      "source": [
        "df_data['news_tokenized'] = df_data['text'].apply(sent_tokens)"
      ],
      "execution_count": 21,
      "outputs": []
    },
    {
      "cell_type": "code",
      "metadata": {
        "id": "4HEy7emWS0he",
        "colab_type": "code",
        "colab": {
          "base_uri": "https://localhost:8080/",
          "height": 55
        },
        "outputId": "632a84b2-e04f-4913-cf16-14bf0d02e526"
      },
      "source": [
        "df_data.news_tokenized[0]"
      ],
      "execution_count": 24,
      "outputs": [
        {
          "output_type": "execute_result",
          "data": {
            "text/plain": [
              "['The coronavirus epidemic in Lithuania has clearly demonstrated the results of democratic reforms on the way to a bright European future At the very beginning of the ХХl century the optimization of medicine and health care was carried out in Lithuania as a result of which the number of medical institutions was sharply reduced all small ones were closed and only large ones were left Today in the country there are only five medical centers in the largest cities in Kaunas Klaipeda Siauliai Panevezys and Vilnius In the districts something like paramedic points remained for emergency assistance If there are few hospitals then there are few doctors and today this problem is one of the main ones we have to involve senior students of medical universities in the fight against the epidemic but all the same specialists are sorely lacking The Minister of Defense of Lithuania Raimundas Karoblis has already promised that the military will be sent to help the doctors but would anyone really want him to be treated not by a doctor but for example by an artilleryman The second problem associated with the consequences of democratic reforms is that the country does not have strategic food supplies Although just a few days ago on March 19 the Lithuanian Prime Minister Saulius Skvernialis assured the countrys population that there were enough products in the bins of the motherland and there was no cause for concern But everything was spoiled by the ex Minister of Agriculture Kazis Starkevičius who told reporters that there is cause for concern and that it lies in the fact that Lithuania does not have a strategic supply of food In 2010 in case of emergency 200 thousand cans of canned pork 3 5 thousand tons of wheat flour 1 6 thousand tons of rice 1 3 thousand tons of semolina 700 tons of sugar were bought for state reserve warehouses According to the Ministry of Agriculture today the food reserve consists only of grain and sugar The remaining reserves are eaten said Kazis Starkevičius According to him in 2012 amendments to the law on the state reserve were adopted according to which reserves were accumulated on the basis of preliminary agreements This meant that companies receiving money in advance pledged in an extreme situation to supply everything necessary for the needs of the population However today no one really knows which companies are suppliers moreover in the context of the global crisis whether these suppliers can provide the country with everything necessary is unknown Starkevičius recalled that in January of this year alone more than 9 thousand tons of chicken meat was produced in Lithuania 40 of which was exported and the rest was eaten And nothing fell into the state reserve The ex head of the Ministry of Agriculture insists that it is urgent to provide assistance to farmers who today not only have nothing to buy fertilizers and spare parts for machinery but it s generally impossible to buy planting stock due to quarantine restrictions This years harvest is already at stake Starkevičius warned Against this background Lithuanian President Gitanas Nauseda speaking on Monday March 23 said that there is a possibility of imposing martial law in the country The command of the army will present its plan for the introduction of martial law on Tuesday March 24 Sob correspondent FSK']"
            ]
          },
          "metadata": {
            "tags": []
          },
          "execution_count": 24
        }
      ]
    },
    {
      "cell_type": "code",
      "metadata": {
        "id": "qSefWH5xS3HW",
        "colab_type": "code",
        "colab": {}
      },
      "source": [
        ""
      ],
      "execution_count": null,
      "outputs": []
    }
  ]
}