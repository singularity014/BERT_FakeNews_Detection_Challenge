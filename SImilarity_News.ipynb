{
  "nbformat": 4,
  "nbformat_minor": 0,
  "metadata": {
    "colab": {
      "name": "SImilarity_News.ipynb",
      "provenance": [],
      "collapsed_sections": [],
      "authorship_tag": "ABX9TyOVlSdbh5RuWke3RZcX0i7h",
      "include_colab_link": true
    },
    "kernelspec": {
      "name": "python3",
      "display_name": "Python 3"
    },
    "accelerator": "GPU",
    "widgets": {
      "application/vnd.jupyter.widget-state+json": {
        "54bc0dca08394d5fb10ba4aafaaa2ad5": {
          "model_module": "@jupyter-widgets/controls",
          "model_name": "HBoxModel",
          "state": {
            "_view_name": "HBoxView",
            "_dom_classes": [],
            "_model_name": "HBoxModel",
            "_view_module": "@jupyter-widgets/controls",
            "_model_module_version": "1.5.0",
            "_view_count": null,
            "_view_module_version": "1.5.0",
            "box_style": "",
            "layout": "IPY_MODEL_340d6a93a30145aca388cf9f65eb9614",
            "_model_module": "@jupyter-widgets/controls",
            "children": [
              "IPY_MODEL_47be1085214a466ca0a1b160d4f4f713",
              "IPY_MODEL_fd95b3ed8a0e4b6fb76b2d81719489ab"
            ]
          }
        },
        "340d6a93a30145aca388cf9f65eb9614": {
          "model_module": "@jupyter-widgets/base",
          "model_name": "LayoutModel",
          "state": {
            "_view_name": "LayoutView",
            "grid_template_rows": null,
            "right": null,
            "justify_content": null,
            "_view_module": "@jupyter-widgets/base",
            "overflow": null,
            "_model_module_version": "1.2.0",
            "_view_count": null,
            "flex_flow": null,
            "width": null,
            "min_width": null,
            "border": null,
            "align_items": null,
            "bottom": null,
            "_model_module": "@jupyter-widgets/base",
            "top": null,
            "grid_column": null,
            "overflow_y": null,
            "overflow_x": null,
            "grid_auto_flow": null,
            "grid_area": null,
            "grid_template_columns": null,
            "flex": null,
            "_model_name": "LayoutModel",
            "justify_items": null,
            "grid_row": null,
            "max_height": null,
            "align_content": null,
            "visibility": null,
            "align_self": null,
            "height": null,
            "min_height": null,
            "padding": null,
            "grid_auto_rows": null,
            "grid_gap": null,
            "max_width": null,
            "order": null,
            "_view_module_version": "1.2.0",
            "grid_template_areas": null,
            "object_position": null,
            "object_fit": null,
            "grid_auto_columns": null,
            "margin": null,
            "display": null,
            "left": null
          }
        },
        "47be1085214a466ca0a1b160d4f4f713": {
          "model_module": "@jupyter-widgets/controls",
          "model_name": "FloatProgressModel",
          "state": {
            "_view_name": "ProgressView",
            "style": "IPY_MODEL_e3b68002b258494ea6be71c362f78eec",
            "_dom_classes": [],
            "description": "Downloading: 100%",
            "_model_name": "FloatProgressModel",
            "bar_style": "success",
            "max": 434,
            "_view_module": "@jupyter-widgets/controls",
            "_model_module_version": "1.5.0",
            "value": 434,
            "_view_count": null,
            "_view_module_version": "1.5.0",
            "orientation": "horizontal",
            "min": 0,
            "description_tooltip": null,
            "_model_module": "@jupyter-widgets/controls",
            "layout": "IPY_MODEL_a3f040da62794728a3cd6192debd842f"
          }
        },
        "fd95b3ed8a0e4b6fb76b2d81719489ab": {
          "model_module": "@jupyter-widgets/controls",
          "model_name": "HTMLModel",
          "state": {
            "_view_name": "HTMLView",
            "style": "IPY_MODEL_0d961087c08a45c0b6e2aff74a7ef4dd",
            "_dom_classes": [],
            "description": "",
            "_model_name": "HTMLModel",
            "placeholder": "​",
            "_view_module": "@jupyter-widgets/controls",
            "_model_module_version": "1.5.0",
            "value": " 434/434 [00:00&lt;00:00, 2.24kB/s]",
            "_view_count": null,
            "_view_module_version": "1.5.0",
            "description_tooltip": null,
            "_model_module": "@jupyter-widgets/controls",
            "layout": "IPY_MODEL_1813deb97593469b84ba1b06727be950"
          }
        },
        "e3b68002b258494ea6be71c362f78eec": {
          "model_module": "@jupyter-widgets/controls",
          "model_name": "ProgressStyleModel",
          "state": {
            "_view_name": "StyleView",
            "_model_name": "ProgressStyleModel",
            "description_width": "initial",
            "_view_module": "@jupyter-widgets/base",
            "_model_module_version": "1.5.0",
            "_view_count": null,
            "_view_module_version": "1.2.0",
            "bar_color": null,
            "_model_module": "@jupyter-widgets/controls"
          }
        },
        "a3f040da62794728a3cd6192debd842f": {
          "model_module": "@jupyter-widgets/base",
          "model_name": "LayoutModel",
          "state": {
            "_view_name": "LayoutView",
            "grid_template_rows": null,
            "right": null,
            "justify_content": null,
            "_view_module": "@jupyter-widgets/base",
            "overflow": null,
            "_model_module_version": "1.2.0",
            "_view_count": null,
            "flex_flow": null,
            "width": null,
            "min_width": null,
            "border": null,
            "align_items": null,
            "bottom": null,
            "_model_module": "@jupyter-widgets/base",
            "top": null,
            "grid_column": null,
            "overflow_y": null,
            "overflow_x": null,
            "grid_auto_flow": null,
            "grid_area": null,
            "grid_template_columns": null,
            "flex": null,
            "_model_name": "LayoutModel",
            "justify_items": null,
            "grid_row": null,
            "max_height": null,
            "align_content": null,
            "visibility": null,
            "align_self": null,
            "height": null,
            "min_height": null,
            "padding": null,
            "grid_auto_rows": null,
            "grid_gap": null,
            "max_width": null,
            "order": null,
            "_view_module_version": "1.2.0",
            "grid_template_areas": null,
            "object_position": null,
            "object_fit": null,
            "grid_auto_columns": null,
            "margin": null,
            "display": null,
            "left": null
          }
        },
        "0d961087c08a45c0b6e2aff74a7ef4dd": {
          "model_module": "@jupyter-widgets/controls",
          "model_name": "DescriptionStyleModel",
          "state": {
            "_view_name": "StyleView",
            "_model_name": "DescriptionStyleModel",
            "description_width": "",
            "_view_module": "@jupyter-widgets/base",
            "_model_module_version": "1.5.0",
            "_view_count": null,
            "_view_module_version": "1.2.0",
            "_model_module": "@jupyter-widgets/controls"
          }
        },
        "1813deb97593469b84ba1b06727be950": {
          "model_module": "@jupyter-widgets/base",
          "model_name": "LayoutModel",
          "state": {
            "_view_name": "LayoutView",
            "grid_template_rows": null,
            "right": null,
            "justify_content": null,
            "_view_module": "@jupyter-widgets/base",
            "overflow": null,
            "_model_module_version": "1.2.0",
            "_view_count": null,
            "flex_flow": null,
            "width": null,
            "min_width": null,
            "border": null,
            "align_items": null,
            "bottom": null,
            "_model_module": "@jupyter-widgets/base",
            "top": null,
            "grid_column": null,
            "overflow_y": null,
            "overflow_x": null,
            "grid_auto_flow": null,
            "grid_area": null,
            "grid_template_columns": null,
            "flex": null,
            "_model_name": "LayoutModel",
            "justify_items": null,
            "grid_row": null,
            "max_height": null,
            "align_content": null,
            "visibility": null,
            "align_self": null,
            "height": null,
            "min_height": null,
            "padding": null,
            "grid_auto_rows": null,
            "grid_gap": null,
            "max_width": null,
            "order": null,
            "_view_module_version": "1.2.0",
            "grid_template_areas": null,
            "object_position": null,
            "object_fit": null,
            "grid_auto_columns": null,
            "margin": null,
            "display": null,
            "left": null
          }
        },
        "435f8e0ac4d24778ae5acba11e685109": {
          "model_module": "@jupyter-widgets/controls",
          "model_name": "HBoxModel",
          "state": {
            "_view_name": "HBoxView",
            "_dom_classes": [],
            "_model_name": "HBoxModel",
            "_view_module": "@jupyter-widgets/controls",
            "_model_module_version": "1.5.0",
            "_view_count": null,
            "_view_module_version": "1.5.0",
            "box_style": "",
            "layout": "IPY_MODEL_ef8005236a3543e081d2922a25bc7a43",
            "_model_module": "@jupyter-widgets/controls",
            "children": [
              "IPY_MODEL_17c5d28d774d42f19994bb6e5249fc2d",
              "IPY_MODEL_77fb9fa8bf084cbdbb671e55e6ae4b4d"
            ]
          }
        },
        "ef8005236a3543e081d2922a25bc7a43": {
          "model_module": "@jupyter-widgets/base",
          "model_name": "LayoutModel",
          "state": {
            "_view_name": "LayoutView",
            "grid_template_rows": null,
            "right": null,
            "justify_content": null,
            "_view_module": "@jupyter-widgets/base",
            "overflow": null,
            "_model_module_version": "1.2.0",
            "_view_count": null,
            "flex_flow": null,
            "width": null,
            "min_width": null,
            "border": null,
            "align_items": null,
            "bottom": null,
            "_model_module": "@jupyter-widgets/base",
            "top": null,
            "grid_column": null,
            "overflow_y": null,
            "overflow_x": null,
            "grid_auto_flow": null,
            "grid_area": null,
            "grid_template_columns": null,
            "flex": null,
            "_model_name": "LayoutModel",
            "justify_items": null,
            "grid_row": null,
            "max_height": null,
            "align_content": null,
            "visibility": null,
            "align_self": null,
            "height": null,
            "min_height": null,
            "padding": null,
            "grid_auto_rows": null,
            "grid_gap": null,
            "max_width": null,
            "order": null,
            "_view_module_version": "1.2.0",
            "grid_template_areas": null,
            "object_position": null,
            "object_fit": null,
            "grid_auto_columns": null,
            "margin": null,
            "display": null,
            "left": null
          }
        },
        "17c5d28d774d42f19994bb6e5249fc2d": {
          "model_module": "@jupyter-widgets/controls",
          "model_name": "FloatProgressModel",
          "state": {
            "_view_name": "ProgressView",
            "style": "IPY_MODEL_7000b091085944b49e5a9f7f3326c072",
            "_dom_classes": [],
            "description": "Downloading: 100%",
            "_model_name": "FloatProgressModel",
            "bar_style": "success",
            "max": 1344997306,
            "_view_module": "@jupyter-widgets/controls",
            "_model_module_version": "1.5.0",
            "value": 1344997306,
            "_view_count": null,
            "_view_module_version": "1.5.0",
            "orientation": "horizontal",
            "min": 0,
            "description_tooltip": null,
            "_model_module": "@jupyter-widgets/controls",
            "layout": "IPY_MODEL_5931c7d39033442d81d4d67bfca3b159"
          }
        },
        "77fb9fa8bf084cbdbb671e55e6ae4b4d": {
          "model_module": "@jupyter-widgets/controls",
          "model_name": "HTMLModel",
          "state": {
            "_view_name": "HTMLView",
            "style": "IPY_MODEL_c61e7499be9b46188af12d6ac417e1b3",
            "_dom_classes": [],
            "description": "",
            "_model_name": "HTMLModel",
            "placeholder": "​",
            "_view_module": "@jupyter-widgets/controls",
            "_model_module_version": "1.5.0",
            "value": " 1.34G/1.34G [20:48&lt;00:00, 1.08MB/s]",
            "_view_count": null,
            "_view_module_version": "1.5.0",
            "description_tooltip": null,
            "_model_module": "@jupyter-widgets/controls",
            "layout": "IPY_MODEL_2ccd8d1f518841c3b156fb1388eb8bdf"
          }
        },
        "7000b091085944b49e5a9f7f3326c072": {
          "model_module": "@jupyter-widgets/controls",
          "model_name": "ProgressStyleModel",
          "state": {
            "_view_name": "StyleView",
            "_model_name": "ProgressStyleModel",
            "description_width": "initial",
            "_view_module": "@jupyter-widgets/base",
            "_model_module_version": "1.5.0",
            "_view_count": null,
            "_view_module_version": "1.2.0",
            "bar_color": null,
            "_model_module": "@jupyter-widgets/controls"
          }
        },
        "5931c7d39033442d81d4d67bfca3b159": {
          "model_module": "@jupyter-widgets/base",
          "model_name": "LayoutModel",
          "state": {
            "_view_name": "LayoutView",
            "grid_template_rows": null,
            "right": null,
            "justify_content": null,
            "_view_module": "@jupyter-widgets/base",
            "overflow": null,
            "_model_module_version": "1.2.0",
            "_view_count": null,
            "flex_flow": null,
            "width": null,
            "min_width": null,
            "border": null,
            "align_items": null,
            "bottom": null,
            "_model_module": "@jupyter-widgets/base",
            "top": null,
            "grid_column": null,
            "overflow_y": null,
            "overflow_x": null,
            "grid_auto_flow": null,
            "grid_area": null,
            "grid_template_columns": null,
            "flex": null,
            "_model_name": "LayoutModel",
            "justify_items": null,
            "grid_row": null,
            "max_height": null,
            "align_content": null,
            "visibility": null,
            "align_self": null,
            "height": null,
            "min_height": null,
            "padding": null,
            "grid_auto_rows": null,
            "grid_gap": null,
            "max_width": null,
            "order": null,
            "_view_module_version": "1.2.0",
            "grid_template_areas": null,
            "object_position": null,
            "object_fit": null,
            "grid_auto_columns": null,
            "margin": null,
            "display": null,
            "left": null
          }
        },
        "c61e7499be9b46188af12d6ac417e1b3": {
          "model_module": "@jupyter-widgets/controls",
          "model_name": "DescriptionStyleModel",
          "state": {
            "_view_name": "StyleView",
            "_model_name": "DescriptionStyleModel",
            "description_width": "",
            "_view_module": "@jupyter-widgets/base",
            "_model_module_version": "1.5.0",
            "_view_count": null,
            "_view_module_version": "1.2.0",
            "_model_module": "@jupyter-widgets/controls"
          }
        },
        "2ccd8d1f518841c3b156fb1388eb8bdf": {
          "model_module": "@jupyter-widgets/base",
          "model_name": "LayoutModel",
          "state": {
            "_view_name": "LayoutView",
            "grid_template_rows": null,
            "right": null,
            "justify_content": null,
            "_view_module": "@jupyter-widgets/base",
            "overflow": null,
            "_model_module_version": "1.2.0",
            "_view_count": null,
            "flex_flow": null,
            "width": null,
            "min_width": null,
            "border": null,
            "align_items": null,
            "bottom": null,
            "_model_module": "@jupyter-widgets/base",
            "top": null,
            "grid_column": null,
            "overflow_y": null,
            "overflow_x": null,
            "grid_auto_flow": null,
            "grid_area": null,
            "grid_template_columns": null,
            "flex": null,
            "_model_name": "LayoutModel",
            "justify_items": null,
            "grid_row": null,
            "max_height": null,
            "align_content": null,
            "visibility": null,
            "align_self": null,
            "height": null,
            "min_height": null,
            "padding": null,
            "grid_auto_rows": null,
            "grid_gap": null,
            "max_width": null,
            "order": null,
            "_view_module_version": "1.2.0",
            "grid_template_areas": null,
            "object_position": null,
            "object_fit": null,
            "grid_auto_columns": null,
            "margin": null,
            "display": null,
            "left": null
          }
        },
        "5695bb7e9e924efe859690ffd9154f6e": {
          "model_module": "@jupyter-widgets/controls",
          "model_name": "HBoxModel",
          "state": {
            "_view_name": "HBoxView",
            "_dom_classes": [],
            "_model_name": "HBoxModel",
            "_view_module": "@jupyter-widgets/controls",
            "_model_module_version": "1.5.0",
            "_view_count": null,
            "_view_module_version": "1.5.0",
            "box_style": "",
            "layout": "IPY_MODEL_6910fde1acd443b39d710fbc1b0a2f65",
            "_model_module": "@jupyter-widgets/controls",
            "children": [
              "IPY_MODEL_dee334a57b3444d0965b83a64c077692",
              "IPY_MODEL_d38a51f418d5464c8c7c4e8b83349bcc"
            ]
          }
        },
        "6910fde1acd443b39d710fbc1b0a2f65": {
          "model_module": "@jupyter-widgets/base",
          "model_name": "LayoutModel",
          "state": {
            "_view_name": "LayoutView",
            "grid_template_rows": null,
            "right": null,
            "justify_content": null,
            "_view_module": "@jupyter-widgets/base",
            "overflow": null,
            "_model_module_version": "1.2.0",
            "_view_count": null,
            "flex_flow": null,
            "width": null,
            "min_width": null,
            "border": null,
            "align_items": null,
            "bottom": null,
            "_model_module": "@jupyter-widgets/base",
            "top": null,
            "grid_column": null,
            "overflow_y": null,
            "overflow_x": null,
            "grid_auto_flow": null,
            "grid_area": null,
            "grid_template_columns": null,
            "flex": null,
            "_model_name": "LayoutModel",
            "justify_items": null,
            "grid_row": null,
            "max_height": null,
            "align_content": null,
            "visibility": null,
            "align_self": null,
            "height": null,
            "min_height": null,
            "padding": null,
            "grid_auto_rows": null,
            "grid_gap": null,
            "max_width": null,
            "order": null,
            "_view_module_version": "1.2.0",
            "grid_template_areas": null,
            "object_position": null,
            "object_fit": null,
            "grid_auto_columns": null,
            "margin": null,
            "display": null,
            "left": null
          }
        },
        "dee334a57b3444d0965b83a64c077692": {
          "model_module": "@jupyter-widgets/controls",
          "model_name": "FloatProgressModel",
          "state": {
            "_view_name": "ProgressView",
            "style": "IPY_MODEL_7368f8a1e83a4cceabb5898224c7b9b8",
            "_dom_classes": [],
            "description": "Downloading: 100%",
            "_model_name": "FloatProgressModel",
            "bar_style": "success",
            "max": 231508,
            "_view_module": "@jupyter-widgets/controls",
            "_model_module_version": "1.5.0",
            "value": 231508,
            "_view_count": null,
            "_view_module_version": "1.5.0",
            "orientation": "horizontal",
            "min": 0,
            "description_tooltip": null,
            "_model_module": "@jupyter-widgets/controls",
            "layout": "IPY_MODEL_73ee1c970304409eb348a25b0ed37915"
          }
        },
        "d38a51f418d5464c8c7c4e8b83349bcc": {
          "model_module": "@jupyter-widgets/controls",
          "model_name": "HTMLModel",
          "state": {
            "_view_name": "HTMLView",
            "style": "IPY_MODEL_6d63f464c0ae435e8813b49215c7cb2c",
            "_dom_classes": [],
            "description": "",
            "_model_name": "HTMLModel",
            "placeholder": "​",
            "_view_module": "@jupyter-widgets/controls",
            "_model_module_version": "1.5.0",
            "value": " 232k/232k [00:00&lt;00:00, 695kB/s]",
            "_view_count": null,
            "_view_module_version": "1.5.0",
            "description_tooltip": null,
            "_model_module": "@jupyter-widgets/controls",
            "layout": "IPY_MODEL_131e8a1ab7744c63b64fba70e04fea5b"
          }
        },
        "7368f8a1e83a4cceabb5898224c7b9b8": {
          "model_module": "@jupyter-widgets/controls",
          "model_name": "ProgressStyleModel",
          "state": {
            "_view_name": "StyleView",
            "_model_name": "ProgressStyleModel",
            "description_width": "initial",
            "_view_module": "@jupyter-widgets/base",
            "_model_module_version": "1.5.0",
            "_view_count": null,
            "_view_module_version": "1.2.0",
            "bar_color": null,
            "_model_module": "@jupyter-widgets/controls"
          }
        },
        "73ee1c970304409eb348a25b0ed37915": {
          "model_module": "@jupyter-widgets/base",
          "model_name": "LayoutModel",
          "state": {
            "_view_name": "LayoutView",
            "grid_template_rows": null,
            "right": null,
            "justify_content": null,
            "_view_module": "@jupyter-widgets/base",
            "overflow": null,
            "_model_module_version": "1.2.0",
            "_view_count": null,
            "flex_flow": null,
            "width": null,
            "min_width": null,
            "border": null,
            "align_items": null,
            "bottom": null,
            "_model_module": "@jupyter-widgets/base",
            "top": null,
            "grid_column": null,
            "overflow_y": null,
            "overflow_x": null,
            "grid_auto_flow": null,
            "grid_area": null,
            "grid_template_columns": null,
            "flex": null,
            "_model_name": "LayoutModel",
            "justify_items": null,
            "grid_row": null,
            "max_height": null,
            "align_content": null,
            "visibility": null,
            "align_self": null,
            "height": null,
            "min_height": null,
            "padding": null,
            "grid_auto_rows": null,
            "grid_gap": null,
            "max_width": null,
            "order": null,
            "_view_module_version": "1.2.0",
            "grid_template_areas": null,
            "object_position": null,
            "object_fit": null,
            "grid_auto_columns": null,
            "margin": null,
            "display": null,
            "left": null
          }
        },
        "6d63f464c0ae435e8813b49215c7cb2c": {
          "model_module": "@jupyter-widgets/controls",
          "model_name": "DescriptionStyleModel",
          "state": {
            "_view_name": "StyleView",
            "_model_name": "DescriptionStyleModel",
            "description_width": "",
            "_view_module": "@jupyter-widgets/base",
            "_model_module_version": "1.5.0",
            "_view_count": null,
            "_view_module_version": "1.2.0",
            "_model_module": "@jupyter-widgets/controls"
          }
        },
        "131e8a1ab7744c63b64fba70e04fea5b": {
          "model_module": "@jupyter-widgets/base",
          "model_name": "LayoutModel",
          "state": {
            "_view_name": "LayoutView",
            "grid_template_rows": null,
            "right": null,
            "justify_content": null,
            "_view_module": "@jupyter-widgets/base",
            "overflow": null,
            "_model_module_version": "1.2.0",
            "_view_count": null,
            "flex_flow": null,
            "width": null,
            "min_width": null,
            "border": null,
            "align_items": null,
            "bottom": null,
            "_model_module": "@jupyter-widgets/base",
            "top": null,
            "grid_column": null,
            "overflow_y": null,
            "overflow_x": null,
            "grid_auto_flow": null,
            "grid_area": null,
            "grid_template_columns": null,
            "flex": null,
            "_model_name": "LayoutModel",
            "justify_items": null,
            "grid_row": null,
            "max_height": null,
            "align_content": null,
            "visibility": null,
            "align_self": null,
            "height": null,
            "min_height": null,
            "padding": null,
            "grid_auto_rows": null,
            "grid_gap": null,
            "max_width": null,
            "order": null,
            "_view_module_version": "1.2.0",
            "grid_template_areas": null,
            "object_position": null,
            "object_fit": null,
            "grid_auto_columns": null,
            "margin": null,
            "display": null,
            "left": null
          }
        }
      }
    }
  },
  "cells": [
    {
      "cell_type": "markdown",
      "metadata": {
        "id": "view-in-github",
        "colab_type": "text"
      },
      "source": [
        "<a href=\"https://colab.research.google.com/github/singularity014/BERT_FakeNews_Detection_Challenge/blob/master/SImilarity_News.ipynb\" target=\"_parent\"><img src=\"https://colab.research.google.com/assets/colab-badge.svg\" alt=\"Open In Colab\"/></a>"
      ]
    },
    {
      "cell_type": "markdown",
      "metadata": {
        "id": "GkRUMKR91A4G",
        "colab_type": "text"
      },
      "source": [
        "## Problem Statement\n",
        "\n",
        "- **Given** - A Data Set of Fake and Real news.\n",
        "\n",
        "- **Objective** - To develop a solution which  \n",
        "  detects if a given news is Fake or Real.\n",
        "\n",
        "- **Methodology used** - There are multiple ways of approaching to this problem. I have tried to use to popular ways of clustering.\n",
        "The Contextual Clustering approach, and LDA based approach."
      ]
    },
    {
      "cell_type": "markdown",
      "metadata": {
        "id": "FNxRjkbw1ak0",
        "colab_type": "text"
      },
      "source": [
        "# Importing Dependencies\n",
        "We will add and install all the dependencies\n",
        "required here.\n",
        "\n"
      ]
    },
    {
      "cell_type": "code",
      "metadata": {
        "id": "Ew-geqZH08Cr",
        "colab_type": "code",
        "colab": {
          "base_uri": "https://localhost:8080/",
          "height": 811
        },
        "outputId": "a6409854-af7e-4a2e-f7b5-b231fbb441a7"
      },
      "source": [
        "# !pip install textacy\n",
        "# !pip install ktrain\n",
        "# !pip install torch\n",
        "# !pip install spacy\n",
        "# !pip install neuralcoref\n",
        "# !pip install nltk\n",
        "\n",
        "!pip install bert-extractive-summarizer\n"
      ],
      "execution_count": 78,
      "outputs": [
        {
          "output_type": "stream",
          "text": [
            "Collecting bert-extractive-summarizer\n",
            "  Downloading https://files.pythonhosted.org/packages/23/1d/71f0a5c7f81b1a87d4428a6a935e9ddeb5e662e41512952e11bd10533cd9/bert-extractive-summarizer-0.4.2.tar.gz\n",
            "Requirement already satisfied: transformers in /usr/local/lib/python3.6/dist-packages (from bert-extractive-summarizer) (3.0.2)\n",
            "Requirement already satisfied: scikit-learn in /usr/local/lib/python3.6/dist-packages (from bert-extractive-summarizer) (0.21.3)\n",
            "Requirement already satisfied: spacy in /usr/local/lib/python3.6/dist-packages (from bert-extractive-summarizer) (2.2.4)\n",
            "Requirement already satisfied: tokenizers==0.8.1.rc1 in /usr/local/lib/python3.6/dist-packages (from transformers->bert-extractive-summarizer) (0.8.1rc1)\n",
            "Requirement already satisfied: filelock in /usr/local/lib/python3.6/dist-packages (from transformers->bert-extractive-summarizer) (3.0.12)\n",
            "Requirement already satisfied: regex!=2019.12.17 in /usr/local/lib/python3.6/dist-packages (from transformers->bert-extractive-summarizer) (2019.12.20)\n",
            "Requirement already satisfied: dataclasses; python_version < \"3.7\" in /usr/local/lib/python3.6/dist-packages (from transformers->bert-extractive-summarizer) (0.7)\n",
            "Requirement already satisfied: sacremoses in /usr/local/lib/python3.6/dist-packages (from transformers->bert-extractive-summarizer) (0.0.43)\n",
            "Requirement already satisfied: numpy in /usr/local/lib/python3.6/dist-packages (from transformers->bert-extractive-summarizer) (1.18.5)\n",
            "Requirement already satisfied: sentencepiece!=0.1.92 in /usr/local/lib/python3.6/dist-packages (from transformers->bert-extractive-summarizer) (0.1.91)\n",
            "Requirement already satisfied: packaging in /usr/local/lib/python3.6/dist-packages (from transformers->bert-extractive-summarizer) (20.4)\n",
            "Requirement already satisfied: tqdm>=4.27 in /usr/local/lib/python3.6/dist-packages (from transformers->bert-extractive-summarizer) (4.41.1)\n",
            "Requirement already satisfied: requests in /usr/local/lib/python3.6/dist-packages (from transformers->bert-extractive-summarizer) (2.23.0)\n",
            "Requirement already satisfied: scipy>=0.17.0 in /usr/local/lib/python3.6/dist-packages (from scikit-learn->bert-extractive-summarizer) (1.4.1)\n",
            "Requirement already satisfied: joblib>=0.11 in /usr/local/lib/python3.6/dist-packages (from scikit-learn->bert-extractive-summarizer) (0.16.0)\n",
            "Requirement already satisfied: wasabi<1.1.0,>=0.4.0 in /usr/local/lib/python3.6/dist-packages (from spacy->bert-extractive-summarizer) (0.7.0)\n",
            "Requirement already satisfied: srsly<1.1.0,>=1.0.2 in /usr/local/lib/python3.6/dist-packages (from spacy->bert-extractive-summarizer) (1.0.2)\n",
            "Requirement already satisfied: thinc==7.4.0 in /usr/local/lib/python3.6/dist-packages (from spacy->bert-extractive-summarizer) (7.4.0)\n",
            "Requirement already satisfied: plac<1.2.0,>=0.9.6 in /usr/local/lib/python3.6/dist-packages (from spacy->bert-extractive-summarizer) (1.1.3)\n",
            "Requirement already satisfied: cymem<2.1.0,>=2.0.2 in /usr/local/lib/python3.6/dist-packages (from spacy->bert-extractive-summarizer) (2.0.3)\n",
            "Requirement already satisfied: catalogue<1.1.0,>=0.0.7 in /usr/local/lib/python3.6/dist-packages (from spacy->bert-extractive-summarizer) (1.0.0)\n",
            "Requirement already satisfied: preshed<3.1.0,>=3.0.2 in /usr/local/lib/python3.6/dist-packages (from spacy->bert-extractive-summarizer) (3.0.2)\n",
            "Requirement already satisfied: setuptools in /usr/local/lib/python3.6/dist-packages (from spacy->bert-extractive-summarizer) (49.1.0)\n",
            "Requirement already satisfied: murmurhash<1.1.0,>=0.28.0 in /usr/local/lib/python3.6/dist-packages (from spacy->bert-extractive-summarizer) (1.0.2)\n",
            "Requirement already satisfied: blis<0.5.0,>=0.4.0 in /usr/local/lib/python3.6/dist-packages (from spacy->bert-extractive-summarizer) (0.4.1)\n",
            "Requirement already satisfied: six in /usr/local/lib/python3.6/dist-packages (from sacremoses->transformers->bert-extractive-summarizer) (1.12.0)\n",
            "Requirement already satisfied: click in /usr/local/lib/python3.6/dist-packages (from sacremoses->transformers->bert-extractive-summarizer) (7.1.2)\n",
            "Requirement already satisfied: pyparsing>=2.0.2 in /usr/local/lib/python3.6/dist-packages (from packaging->transformers->bert-extractive-summarizer) (2.4.7)\n",
            "Requirement already satisfied: urllib3!=1.25.0,!=1.25.1,<1.26,>=1.21.1 in /usr/local/lib/python3.6/dist-packages (from requests->transformers->bert-extractive-summarizer) (1.24.3)\n",
            "Requirement already satisfied: chardet<4,>=3.0.2 in /usr/local/lib/python3.6/dist-packages (from requests->transformers->bert-extractive-summarizer) (3.0.4)\n",
            "Requirement already satisfied: idna<3,>=2.5 in /usr/local/lib/python3.6/dist-packages (from requests->transformers->bert-extractive-summarizer) (2.10)\n",
            "Requirement already satisfied: certifi>=2017.4.17 in /usr/local/lib/python3.6/dist-packages (from requests->transformers->bert-extractive-summarizer) (2020.6.20)\n",
            "Requirement already satisfied: importlib-metadata>=0.20; python_version < \"3.8\" in /usr/local/lib/python3.6/dist-packages (from catalogue<1.1.0,>=0.0.7->spacy->bert-extractive-summarizer) (1.7.0)\n",
            "Requirement already satisfied: zipp>=0.5 in /usr/local/lib/python3.6/dist-packages (from importlib-metadata>=0.20; python_version < \"3.8\"->catalogue<1.1.0,>=0.0.7->spacy->bert-extractive-summarizer) (3.1.0)\n",
            "Building wheels for collected packages: bert-extractive-summarizer\n",
            "  Building wheel for bert-extractive-summarizer (setup.py) ... \u001b[?25l\u001b[?25hdone\n",
            "  Created wheel for bert-extractive-summarizer: filename=bert_extractive_summarizer-0.4.2-cp36-none-any.whl size=13711 sha256=c5dd69e2ab764fd346667a622913f23edf093abeda896e05ac4b1ae1dac6e622\n",
            "  Stored in directory: /root/.cache/pip/wheels/13/bc/30/654eb9e657177a56cba927c5a20b6cd01fb229b1ed2bf9b371\n",
            "Successfully built bert-extractive-summarizer\n",
            "Installing collected packages: bert-extractive-summarizer\n",
            "Successfully installed bert-extractive-summarizer-0.4.2\n"
          ],
          "name": "stdout"
        }
      ]
    },
    {
      "cell_type": "markdown",
      "metadata": {
        "id": "xgs5OYpv0_fB",
        "colab_type": "text"
      },
      "source": [
        ""
      ]
    },
    {
      "cell_type": "code",
      "metadata": {
        "id": "YbwWeDdM1lAP",
        "colab_type": "code",
        "colab": {}
      },
      "source": [
        "import re\n",
        "import pandas as pd\n",
        "import numpy as np\n",
        "import matplotlib.pyplot as plt\n",
        "import seaborn as sns\n",
        "import urllib\n",
        "import json\n",
        "from ktrain import text\n",
        "import nltk\n",
        "from nltk.tokenize import sent_tokenize\n",
        "\n",
        "from google.colab import drive"
      ],
      "execution_count": 12,
      "outputs": []
    },
    {
      "cell_type": "code",
      "metadata": {
        "id": "io2GU5IMSqkt",
        "colab_type": "code",
        "colab": {
          "base_uri": "https://localhost:8080/",
          "height": 71
        },
        "outputId": "9d3fb1c7-769b-419a-81b8-8747ed9fd697"
      },
      "source": [
        "nltk.download('punkt')"
      ],
      "execution_count": 18,
      "outputs": [
        {
          "output_type": "stream",
          "text": [
            "[nltk_data] Downloading package punkt to /root/nltk_data...\n",
            "[nltk_data]   Unzipping tokenizers/punkt.zip.\n"
          ],
          "name": "stdout"
        },
        {
          "output_type": "execute_result",
          "data": {
            "text/plain": [
              "True"
            ]
          },
          "metadata": {
            "tags": []
          },
          "execution_count": 18
        }
      ]
    },
    {
      "cell_type": "markdown",
      "metadata": {
        "id": "yKL5PhnF29LJ",
        "colab_type": "text"
      },
      "source": [
        "# Data Loader"
      ]
    },
    {
      "cell_type": "code",
      "metadata": {
        "id": "ei-tOc8BSZ9O",
        "colab_type": "code",
        "colab": {}
      },
      "source": [
        "# Mounting Drive\n",
        "drive.mount(\"/content/drive\")"
      ],
      "execution_count": null,
      "outputs": []
    },
    {
      "cell_type": "code",
      "metadata": {
        "id": "iaY4L3Jf3AEp",
        "colab_type": "code",
        "colab": {}
      },
      "source": [
        "def load_convert_data(url):\n",
        "    \"\"\"\n",
        "    Downloads the json file from net and convert into pandas dataframe format.\n",
        "    \"\"\"\n",
        "    with urllib.request.urlopen(url) as url:\n",
        "        df = json.loads(url.read().decode('utf-8'))\n",
        "        df = pd.DataFrame.from_dict(df)\n",
        "    return df"
      ],
      "execution_count": 70,
      "outputs": []
    },
    {
      "cell_type": "code",
      "metadata": {
        "id": "RpThThP33FCG",
        "colab_type": "code",
        "colab": {}
      },
      "source": [
        "df_data = load_convert_data(\"https://storage.googleapis.com/public-resources/dataset/clusters.json\")"
      ],
      "execution_count": 71,
      "outputs": []
    },
    {
      "cell_type": "code",
      "metadata": {
        "id": "5XlQeBuuTJ4u",
        "colab_type": "code",
        "colab": {
          "base_uri": "https://localhost:8080/",
          "height": 216
        },
        "outputId": "52800082-bb98-4356-9ae8-dbb6e8c61dbc"
      },
      "source": [
        "df_data['text'][0]"
      ],
      "execution_count": 72,
      "outputs": [
        {
          "output_type": "execute_result",
          "data": {
            "application/vnd.google.colaboratory.intrinsic": {
              "type": "string"
            },
            "text/plain": [
              "'The coronavirus epidemic in Lithuania has clearly demonstrated the results of democratic reforms on the way to a “bright European future”.\\nAt the very beginning of the ХХl century, the optimization of medicine and health care was carried out in Lithuania, as a result of which the number of medical institutions was sharply reduced - all small ones were closed and only large ones were left. Today in the country there are only five medical centers in the largest cities - in Kaunas, Klaipeda, Siauliai, Panevezys and Vilnius. In the districts, something like paramedic points remained for emergency assistance.\\nIf there are few hospitals, then there are few doctors - and today this problem is one of the main ones, we have to involve senior students of medical universities in the fight against the epidemic, but all the same, specialists are sorely lacking.\\nThe Minister of Defense of Lithuania Raimundas Karoblis has already promised that the military will be sent to help the doctors, but would anyone really want him to be treated not by a doctor, but, for example, by an artilleryman?\\nThe second problem associated with the consequences of “democratic reforms” is that the country does not have strategic food supplies. Although just a few days ago, on March 19, the Lithuanian Prime Minister Saulius Skvernialis assured the country\\'s population that there were enough products in the “bins of the motherland” and there was no cause for concern. But everything was spoiled by the ex-Minister of Agriculture Kazis Starkevičius, who told reporters that there is cause for concern and that it lies in the fact that Lithuania does not have a strategic supply of food.\\n“In 2010, in case of emergency, 200 thousand cans of canned pork, 3.5 thousand tons of wheat flour, 1.6 thousand tons of rice, 1.3 thousand tons of semolina, 700 tons of sugar were bought for state reserve warehouses. According to the Ministry of Agriculture, today the food reserve consists only of grain and sugar. The remaining reserves are eaten, \"\\n- said Kazis Starkevičius.\\nAccording to him, in 2012 amendments to the law on the state reserve were adopted, according to which \"reserves were accumulated on the basis of preliminary agreements.\" This meant that companies, receiving money in advance, pledged in an extreme situation to supply everything necessary for the needs of the population. However, today no one really knows which companies are suppliers, moreover, in the context of the global crisis, whether these suppliers can provide the country with everything necessary is unknown.\\nStarkevičius recalled that in January of this year alone, more than 9 thousand tons of chicken meat was produced in Lithuania, 40% of which was exported, and the rest was eaten. And nothing fell into the state reserve.\\nThe ex-head of the Ministry of Agriculture insists that it is urgent to provide assistance to farmers, who today not only have nothing to buy fertilizers and spare parts for machinery, but it’s generally impossible to buy planting stock due to quarantine restrictions. This year\\'s harvest is already at stake, Starkevičius warned.\\nAgainst this background, Lithuanian President Gitanas Nauseda, speaking on Monday, March 23, said that there is a possibility of imposing martial law in the country. The command of the army will present its plan for the introduction of martial law on Tuesday, March 24.\\nSob. correspondent FSK'"
            ]
          },
          "metadata": {
            "tags": []
          },
          "execution_count": 72
        }
      ]
    },
    {
      "cell_type": "code",
      "metadata": {
        "id": "j5ZbJfnp3Fk4",
        "colab_type": "code",
        "colab": {
          "base_uri": "https://localhost:8080/",
          "height": 91
        },
        "outputId": "da949a79-c218-4085-b8a6-1fecf9b8cc0e"
      },
      "source": [
        "# checking data features\n",
        "print(df_data.columns )\n",
        "\n",
        "# checking number of data points\n",
        "print(df_data.shape)\n",
        "\n",
        "# checking distinct clusters and there numbers\n",
        "cluster_names = list(zip(df_data.cluster_name.unique(), df_data.cluster.unique()))\n",
        "print(cluster_names)"
      ],
      "execution_count": 73,
      "outputs": [
        {
          "output_type": "stream",
          "text": [
            "Index(['id', 'text', 'title', 'lang', 'date', 'cluster', 'cluster_name'], dtype='object')\n",
            "(181, 7)\n",
            "[('MS fails to respond', '0'), ('Anti-Russia', '1'), ('Claims about China', '2'), ('Collapse', '3'), ('Coronavirus is not serious', '4'), ('Cure', '5'), ('EU fails to respond', '6'), ('Miscellaneous', '7'), ('Origins', '8'), ('Properties', '9'), ('Was predicted', '10'), ('Secret plan of the global elite', '11'), ('Ukraine fails to respond', '12'), ('USA created COVID-2019', '13')]\n"
          ],
          "name": "stdout"
        }
      ]
    },
    {
      "cell_type": "markdown",
      "metadata": {
        "id": "jOsAkz8P3MZU",
        "colab_type": "text"
      },
      "source": [
        "**Observations**:\n",
        "\n",
        "- There are total 181 news articles in the data.\n",
        "- each articles have features :- 'text', 'title', 'lang', 'date', 'cluster', 'cluster_name'\n",
        "- We will be using 'title' and 'text' for getting contextual representations of each News Article.\n",
        "- There are total 14 distinct clusters."
      ]
    },
    {
      "cell_type": "markdown",
      "metadata": {
        "id": "Kwad3MPu3PXP",
        "colab_type": "text"
      },
      "source": [
        "# II - Data Preprocessing and Cleaning"
      ]
    },
    {
      "cell_type": "code",
      "metadata": {
        "id": "K5yEAbmh3IZ1",
        "colab_type": "code",
        "colab": {}
      },
      "source": [
        "# data cleaner function\n",
        "def clean_txt(sentence):\n",
        "    res = re.sub('[!*)@#%(&$_^]', '', sentence)\n",
        "    return sentence"
      ],
      "execution_count": 74,
      "outputs": []
    },
    {
      "cell_type": "code",
      "metadata": {
        "id": "zqbXfTmy3Rq0",
        "colab_type": "code",
        "colab": {
          "base_uri": "https://localhost:8080/",
          "height": 216
        },
        "outputId": "b6a4dca1-2c5d-4af2-9aa6-4072b3a35ad7"
      },
      "source": [
        "# Text cleaning\n",
        "df_data['text'] = df_data['text'].apply(clean_txt)\n",
        "# # Title cleaning\n",
        "df_data['title'] = df_data['title'].apply(clean_txt)\n",
        "df_data['text'][0]"
      ],
      "execution_count": 75,
      "outputs": [
        {
          "output_type": "execute_result",
          "data": {
            "application/vnd.google.colaboratory.intrinsic": {
              "type": "string"
            },
            "text/plain": [
              "'The coronavirus epidemic in Lithuania has clearly demonstrated the results of democratic reforms on the way to a “bright European future”.\\nAt the very beginning of the ХХl century, the optimization of medicine and health care was carried out in Lithuania, as a result of which the number of medical institutions was sharply reduced - all small ones were closed and only large ones were left. Today in the country there are only five medical centers in the largest cities - in Kaunas, Klaipeda, Siauliai, Panevezys and Vilnius. In the districts, something like paramedic points remained for emergency assistance.\\nIf there are few hospitals, then there are few doctors - and today this problem is one of the main ones, we have to involve senior students of medical universities in the fight against the epidemic, but all the same, specialists are sorely lacking.\\nThe Minister of Defense of Lithuania Raimundas Karoblis has already promised that the military will be sent to help the doctors, but would anyone really want him to be treated not by a doctor, but, for example, by an artilleryman?\\nThe second problem associated with the consequences of “democratic reforms” is that the country does not have strategic food supplies. Although just a few days ago, on March 19, the Lithuanian Prime Minister Saulius Skvernialis assured the country\\'s population that there were enough products in the “bins of the motherland” and there was no cause for concern. But everything was spoiled by the ex-Minister of Agriculture Kazis Starkevičius, who told reporters that there is cause for concern and that it lies in the fact that Lithuania does not have a strategic supply of food.\\n“In 2010, in case of emergency, 200 thousand cans of canned pork, 3.5 thousand tons of wheat flour, 1.6 thousand tons of rice, 1.3 thousand tons of semolina, 700 tons of sugar were bought for state reserve warehouses. According to the Ministry of Agriculture, today the food reserve consists only of grain and sugar. The remaining reserves are eaten, \"\\n- said Kazis Starkevičius.\\nAccording to him, in 2012 amendments to the law on the state reserve were adopted, according to which \"reserves were accumulated on the basis of preliminary agreements.\" This meant that companies, receiving money in advance, pledged in an extreme situation to supply everything necessary for the needs of the population. However, today no one really knows which companies are suppliers, moreover, in the context of the global crisis, whether these suppliers can provide the country with everything necessary is unknown.\\nStarkevičius recalled that in January of this year alone, more than 9 thousand tons of chicken meat was produced in Lithuania, 40% of which was exported, and the rest was eaten. And nothing fell into the state reserve.\\nThe ex-head of the Ministry of Agriculture insists that it is urgent to provide assistance to farmers, who today not only have nothing to buy fertilizers and spare parts for machinery, but it’s generally impossible to buy planting stock due to quarantine restrictions. This year\\'s harvest is already at stake, Starkevičius warned.\\nAgainst this background, Lithuanian President Gitanas Nauseda, speaking on Monday, March 23, said that there is a possibility of imposing martial law in the country. The command of the army will present its plan for the introduction of martial law on Tuesday, March 24.\\nSob. correspondent FSK'"
            ]
          },
          "metadata": {
            "tags": []
          },
          "execution_count": 75
        }
      ]
    },
    {
      "cell_type": "markdown",
      "metadata": {
        "id": "m2-uACzjWlxR",
        "colab_type": "text"
      },
      "source": [
        "#### Text Summarization\n",
        "\n",
        "MODEL USED -  BERT Extractive Summerizer\n",
        "Reason  - It is trained on a generic set of data including News articles such as CNN, Daily Mail. Hence we don not need to fine-tune it (although we can, if domain heavy text is there).\n",
        "\n",
        "![alt text](https://iq.opengenus.org/content/images/2020/01/pic3.png)\n",
        "\n",
        "\n",
        "**Why Summarisation?**\n",
        "(My idea behind Approach)\n",
        "- The idea is extract import information in a concise way to represent it into a shorter form.\n",
        "\n",
        "- A strong argument to advocate this approach is, that as a human, whe try to say if one News is similar to other, we first try to get a summary in our head of the two news articles.\n",
        "- We then get the context and information conveyed in both the News Articiles.\n",
        "- By following this approach, we will try to mimic the process.\n",
        "- While one may argue that we might end up losing some information, but then, a huge advantage is that, we will end-up focusing on only important part of the news.\n",
        "- We want to focus on prnciple informations in the news article.\n"
      ]
    },
    {
      "cell_type": "code",
      "metadata": {
        "id": "AkXxB_BHWd3m",
        "colab_type": "code",
        "colab": {
          "base_uri": "https://localhost:8080/",
          "height": 216
        },
        "outputId": "e40d8f3b-8b2e-455a-dd8a-934614f44b38"
      },
      "source": [
        "# BEFORE SUMMARIZING \n",
        "original_news = df_data['text'][0]\n",
        "original_news"
      ],
      "execution_count": 77,
      "outputs": [
        {
          "output_type": "execute_result",
          "data": {
            "application/vnd.google.colaboratory.intrinsic": {
              "type": "string"
            },
            "text/plain": [
              "'The coronavirus epidemic in Lithuania has clearly demonstrated the results of democratic reforms on the way to a “bright European future”.\\nAt the very beginning of the ХХl century, the optimization of medicine and health care was carried out in Lithuania, as a result of which the number of medical institutions was sharply reduced - all small ones were closed and only large ones were left. Today in the country there are only five medical centers in the largest cities - in Kaunas, Klaipeda, Siauliai, Panevezys and Vilnius. In the districts, something like paramedic points remained for emergency assistance.\\nIf there are few hospitals, then there are few doctors - and today this problem is one of the main ones, we have to involve senior students of medical universities in the fight against the epidemic, but all the same, specialists are sorely lacking.\\nThe Minister of Defense of Lithuania Raimundas Karoblis has already promised that the military will be sent to help the doctors, but would anyone really want him to be treated not by a doctor, but, for example, by an artilleryman?\\nThe second problem associated with the consequences of “democratic reforms” is that the country does not have strategic food supplies. Although just a few days ago, on March 19, the Lithuanian Prime Minister Saulius Skvernialis assured the country\\'s population that there were enough products in the “bins of the motherland” and there was no cause for concern. But everything was spoiled by the ex-Minister of Agriculture Kazis Starkevičius, who told reporters that there is cause for concern and that it lies in the fact that Lithuania does not have a strategic supply of food.\\n“In 2010, in case of emergency, 200 thousand cans of canned pork, 3.5 thousand tons of wheat flour, 1.6 thousand tons of rice, 1.3 thousand tons of semolina, 700 tons of sugar were bought for state reserve warehouses. According to the Ministry of Agriculture, today the food reserve consists only of grain and sugar. The remaining reserves are eaten, \"\\n- said Kazis Starkevičius.\\nAccording to him, in 2012 amendments to the law on the state reserve were adopted, according to which \"reserves were accumulated on the basis of preliminary agreements.\" This meant that companies, receiving money in advance, pledged in an extreme situation to supply everything necessary for the needs of the population. However, today no one really knows which companies are suppliers, moreover, in the context of the global crisis, whether these suppliers can provide the country with everything necessary is unknown.\\nStarkevičius recalled that in January of this year alone, more than 9 thousand tons of chicken meat was produced in Lithuania, 40% of which was exported, and the rest was eaten. And nothing fell into the state reserve.\\nThe ex-head of the Ministry of Agriculture insists that it is urgent to provide assistance to farmers, who today not only have nothing to buy fertilizers and spare parts for machinery, but it’s generally impossible to buy planting stock due to quarantine restrictions. This year\\'s harvest is already at stake, Starkevičius warned.\\nAgainst this background, Lithuanian President Gitanas Nauseda, speaking on Monday, March 23, said that there is a possibility of imposing martial law in the country. The command of the army will present its plan for the introduction of martial law on Tuesday, March 24.\\nSob. correspondent FSK'"
            ]
          },
          "metadata": {
            "tags": []
          },
          "execution_count": 77
        }
      ]
    },
    {
      "cell_type": "code",
      "metadata": {
        "id": "vwMV-JPDYgN2",
        "colab_type": "code",
        "colab": {
          "base_uri": "https://localhost:8080/",
          "height": 167,
          "referenced_widgets": [
            "54bc0dca08394d5fb10ba4aafaaa2ad5",
            "340d6a93a30145aca388cf9f65eb9614",
            "47be1085214a466ca0a1b160d4f4f713",
            "fd95b3ed8a0e4b6fb76b2d81719489ab",
            "e3b68002b258494ea6be71c362f78eec",
            "a3f040da62794728a3cd6192debd842f",
            "0d961087c08a45c0b6e2aff74a7ef4dd",
            "1813deb97593469b84ba1b06727be950",
            "435f8e0ac4d24778ae5acba11e685109",
            "ef8005236a3543e081d2922a25bc7a43",
            "17c5d28d774d42f19994bb6e5249fc2d",
            "77fb9fa8bf084cbdbb671e55e6ae4b4d",
            "7000b091085944b49e5a9f7f3326c072",
            "5931c7d39033442d81d4d67bfca3b159",
            "c61e7499be9b46188af12d6ac417e1b3",
            "2ccd8d1f518841c3b156fb1388eb8bdf",
            "5695bb7e9e924efe859690ffd9154f6e",
            "6910fde1acd443b39d710fbc1b0a2f65",
            "dee334a57b3444d0965b83a64c077692",
            "d38a51f418d5464c8c7c4e8b83349bcc",
            "7368f8a1e83a4cceabb5898224c7b9b8",
            "73ee1c970304409eb348a25b0ed37915",
            "6d63f464c0ae435e8813b49215c7cb2c",
            "131e8a1ab7744c63b64fba70e04fea5b"
          ]
        },
        "outputId": "4f0b7a82-9f51-484b-dfcb-09608609490b"
      },
      "source": [
        "from summarizer import Summarizer\n",
        "# Instantiating BERT pretrained model\n",
        "model = Summarizer()"
      ],
      "execution_count": 80,
      "outputs": [
        {
          "output_type": "display_data",
          "data": {
            "application/vnd.jupyter.widget-view+json": {
              "model_id": "54bc0dca08394d5fb10ba4aafaaa2ad5",
              "version_minor": 0,
              "version_major": 2
            },
            "text/plain": [
              "HBox(children=(FloatProgress(value=0.0, description='Downloading', max=434.0, style=ProgressStyle(description_…"
            ]
          },
          "metadata": {
            "tags": []
          }
        },
        {
          "output_type": "stream",
          "text": [
            "\n"
          ],
          "name": "stdout"
        },
        {
          "output_type": "display_data",
          "data": {
            "application/vnd.jupyter.widget-view+json": {
              "model_id": "435f8e0ac4d24778ae5acba11e685109",
              "version_minor": 0,
              "version_major": 2
            },
            "text/plain": [
              "HBox(children=(FloatProgress(value=0.0, description='Downloading', max=1344997306.0, style=ProgressStyle(descr…"
            ]
          },
          "metadata": {
            "tags": []
          }
        },
        {
          "output_type": "stream",
          "text": [
            "\n"
          ],
          "name": "stdout"
        },
        {
          "output_type": "display_data",
          "data": {
            "application/vnd.jupyter.widget-view+json": {
              "model_id": "5695bb7e9e924efe859690ffd9154f6e",
              "version_minor": 0,
              "version_major": 2
            },
            "text/plain": [
              "HBox(children=(FloatProgress(value=0.0, description='Downloading', max=231508.0, style=ProgressStyle(descripti…"
            ]
          },
          "metadata": {
            "tags": []
          }
        },
        {
          "output_type": "stream",
          "text": [
            "\n"
          ],
          "name": "stdout"
        }
      ]
    },
    {
      "cell_type": "code",
      "metadata": {
        "id": "dYIvhNwdaXEq",
        "colab_type": "code",
        "colab": {}
      },
      "source": [
        "def bert_summarizer(news_article):\n",
        "    \"\"\"\n",
        "    Function takes unsummarized news article as an input\n",
        "    and returns a summarized news article.\n",
        "    \"\"\"\n",
        "    summarized = model(news_article, min_length=30)\n",
        "    return summarized"
      ],
      "execution_count": 86,
      "outputs": []
    },
    {
      "cell_type": "code",
      "metadata": {
        "id": "um3vJCqZbvFM",
        "colab_type": "code",
        "colab": {
          "base_uri": "https://localhost:8080/",
          "height": 144
        },
        "outputId": "3ac8cf15-aa3f-4145-9c8c-2fe04f8bd318"
      },
      "source": [
        "# Let us check a sample summarization \n",
        "# AFTER SUMMARIZING\n",
        "summarized_news = bert_summarizer(original_news)\n",
        "summarized_news"
      ],
      "execution_count": 87,
      "outputs": [
        {
          "output_type": "execute_result",
          "data": {
            "application/vnd.google.colaboratory.intrinsic": {
              "type": "string"
            },
            "text/plain": [
              "\"The coronavirus epidemic in Lithuania has clearly demonstrated the results of democratic reforms on the way to a “bright European future”. Today in the country there are only five medical centers in the largest cities - in Kaunas, Klaipeda, Siauliai, Panevezys and Vilnius. The Minister of Defense of Lithuania Raimundas Karoblis has already promised that the military will be sent to help the doctors, but would anyone really want him to be treated not by a doctor, but, for example, by an artilleryman? And nothing fell into the state reserve. This year's harvest is already at stake, Starkevičius warned.\""
            ]
          },
          "metadata": {
            "tags": []
          },
          "execution_count": 87
        }
      ]
    },
    {
      "cell_type": "code",
      "metadata": {
        "id": "SDlkms26cEPC",
        "colab_type": "code",
        "colab": {}
      },
      "source": [
        "# Let us Apply summarization over all News articles\n",
        "# and save back to the dataframe\n",
        "# this might take a while... \n",
        "# we can use parallel computing frameworks like Dask to boost it\n",
        "df_data['news_summarized'] = df_data['text'].apply(bert_summarizer)\n"
      ],
      "execution_count": 88,
      "outputs": []
    },
    {
      "cell_type": "code",
      "metadata": {
        "id": "LcQgoc8idVPh",
        "colab_type": "code",
        "colab": {
          "base_uri": "https://localhost:8080/",
          "height": 126
        },
        "outputId": "bad8bccd-be1c-4fab-deeb-c2ea96ffdae0"
      },
      "source": [
        "# let us again check one of the summarised news\n",
        "df_data.news_summarized[10]"
      ],
      "execution_count": 95,
      "outputs": [
        {
          "output_type": "execute_result",
          "data": {
            "application/vnd.google.colaboratory.intrinsic": {
              "type": "string"
            },
            "text/plain": [
              "'The spread of the new type of coronavirus threatens to become a pandemic. Ivan Popel is sure that the maneuvers are fraught with incredible threat: a huge, constantly moving military group can accelerate the spread of the epidemic, even more so that it does not even require a human being. In this way, the soldiers participating in the Defender Europe 2020 exercise will become coronavirus nurseries once transmitted and transmitted to Germany, Poland and the Baltic States.'"
            ]
          },
          "metadata": {
            "tags": []
          },
          "execution_count": 95
        }
      ]
    },
    {
      "cell_type": "markdown",
      "metadata": {
        "id": "r_MsabMp42UO",
        "colab_type": "text"
      },
      "source": [
        "# III -  Contextual Clustering Approach\n",
        "\n",
        "In Contextual Clustering Approach -\n",
        "\n",
        "*   The idea is to capture what the News paragraph is trying to convey.\n",
        "*   We can use pretrained Sentence Embedding approaches to such as Transformer based \"BERT Setence Transformer\".\n",
        "- I will be using Multilingual Sentence Transformer model to develop the solution.\n",
        "- We will try to pose the problem as assigning vector to each News <paragraph + Title> a contextual Representation.\n",
        "- If a new instance of News comes, it will be encoded in a similar fashion\n",
        "\n",
        "\n"
      ]
    },
    {
      "cell_type": "markdown",
      "metadata": {
        "id": "FX7ernHIOzIg",
        "colab_type": "text"
      },
      "source": [
        "#### Feeding News Articles to Sentence Tokenizers\n",
        "\n",
        "One we have obtained the summarization of the news, We can now feed it to a Sentence Tokenizer filter, which will divide each News Article into a sentence Token."
      ]
    },
    {
      "cell_type": "code",
      "metadata": {
        "id": "r8qMTwRoDFZD",
        "colab_type": "code",
        "colab": {}
      },
      "source": [
        "def sent_tokens(news_article):\n",
        "  \"\"\"\n",
        "  this function accepts a document/News articles and performs\n",
        "  sentence tokenization.\n",
        "  * returns - list of tokenized sentences\n",
        "  \"\"\"\n",
        "  return sent_tokenize(news_article)"
      ],
      "execution_count": 96,
      "outputs": []
    },
    {
      "cell_type": "code",
      "metadata": {
        "id": "rkWa93izQQ_F",
        "colab_type": "code",
        "colab": {}
      },
      "source": [
        "df_data['news_tokenized'] = df_data['news_summarized'].apply(sent_tokens)"
      ],
      "execution_count": 101,
      "outputs": []
    },
    {
      "cell_type": "code",
      "metadata": {
        "id": "4HEy7emWS0he",
        "colab_type": "code",
        "colab": {
          "base_uri": "https://localhost:8080/",
          "height": 127
        },
        "outputId": "4b4e9038-d9fc-44c8-e530-18632e7db1c0"
      },
      "source": [
        "# Let us check one of the setence tokenized news articles ..\n",
        "df_data.news_tokenized[0]"
      ],
      "execution_count": 104,
      "outputs": [
        {
          "output_type": "execute_result",
          "data": {
            "text/plain": [
              "['The coronavirus epidemic in Lithuania has clearly demonstrated the results of democratic reforms on the way to a “bright European future”.',\n",
              " 'Today in the country there are only five medical centers in the largest cities - in Kaunas, Klaipeda, Siauliai, Panevezys and Vilnius.',\n",
              " 'The Minister of Defense of Lithuania Raimundas Karoblis has already promised that the military will be sent to help the doctors, but would anyone really want him to be treated not by a doctor, but, for example, by an artilleryman?',\n",
              " 'And nothing fell into the state reserve.',\n",
              " \"This year's harvest is already at stake, Starkevičius warned.\"]"
            ]
          },
          "metadata": {
            "tags": []
          },
          "execution_count": 104
        }
      ]
    },
    {
      "cell_type": "code",
      "metadata": {
        "id": "qSefWH5xS3HW",
        "colab_type": "code",
        "colab": {}
      },
      "source": [
        ""
      ],
      "execution_count": null,
      "outputs": []
    }
  ]
}